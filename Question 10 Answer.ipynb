{
 "cells": [
  {
   "cell_type": "code",
   "execution_count": 1,
   "id": "e41ac83a-4357-4d3b-8686-60be17a7d4a5",
   "metadata": {},
   "outputs": [],
   "source": [
    "import numpy as np\n",
    "import matplotlib.pyplot as plt"
   ]
  },
  {
   "cell_type": "code",
   "execution_count": 3,
   "id": "003c14fa-67dd-40b1-ba6d-11104b015cd4",
   "metadata": {},
   "outputs": [],
   "source": [
    "#binomial distribution is n trail of bernoulli distribution "
   ]
  },
  {
   "cell_type": "code",
   "execution_count": 7,
   "id": "89c98ee1-734e-49cc-bf57-9b3b53e501ce",
   "metadata": {},
   "outputs": [],
   "source": [
    "p = 0.6\n",
    "n = 10\n",
    "q = 1 - 0.6\n",
    "mean = n*p\n",
    "variance = n*p*q"
   ]
  },
  {
   "cell_type": "code",
   "execution_count": 9,
   "id": "d9f283cc-e57f-48ba-ace2-a6e1b2c3887a",
   "metadata": {},
   "outputs": [
    {
     "data": {
      "text/plain": [
       "6.0"
      ]
     },
     "execution_count": 9,
     "metadata": {},
     "output_type": "execute_result"
    }
   ],
   "source": [
    "mean"
   ]
  },
  {
   "cell_type": "code",
   "execution_count": 11,
   "id": "33171823-2add-40e6-9763-ea4a7e34b4f6",
   "metadata": {},
   "outputs": [
    {
     "data": {
      "text/plain": [
       "2.4000000000000004"
      ]
     },
     "execution_count": 11,
     "metadata": {},
     "output_type": "execute_result"
    }
   ],
   "source": [
    "variance"
   ]
  },
  {
   "cell_type": "code",
   "execution_count": 13,
   "id": "fd7fd2a4-6849-4cf5-88ad-7a66c3fc03ee",
   "metadata": {},
   "outputs": [],
   "source": [
    "binomial_data = np.random.binomial(n = 10, p = 0.6, size = 1000)"
   ]
  },
  {
   "cell_type": "code",
   "execution_count": 15,
   "id": "05ba9fef-4cea-453c-a0c4-f262b43e7277",
   "metadata": {},
   "outputs": [
    {
     "data": {
      "text/plain": [
       "array([ 8,  6,  8,  8,  6,  9,  5,  5,  8,  5,  6,  4,  3,  6,  5,  6,  9,\n",
       "        3,  7,  6,  9,  7,  6,  4,  8,  6,  7,  6,  7,  4,  6,  5,  5,  6,\n",
       "        4,  4,  4,  6,  6,  4,  8,  5,  8,  8,  3,  6,  7,  9,  9,  6,  6,\n",
       "        7,  7,  6,  8,  6,  5,  6,  6,  3,  8,  6,  6,  5,  5,  4,  4,  8,\n",
       "        5,  7,  7,  7,  8,  6,  3,  6,  3,  6,  6,  6,  7,  6,  5,  5,  3,\n",
       "        6,  4,  6, 10,  6,  7, 10,  6,  5,  7,  6,  6,  2,  4,  8,  8,  3,\n",
       "        6,  3,  7,  4,  5,  5,  6,  5,  6,  5,  7,  5,  2,  8,  6,  4,  7,\n",
       "        5,  5,  7,  4,  8,  7,  8,  7,  6,  7,  6,  6,  4,  6,  8,  5,  7,\n",
       "        3,  7,  6,  5,  4,  6,  6,  4,  6,  7,  7,  6,  6,  8,  6,  8,  6,\n",
       "        5,  6,  5,  7,  7,  9,  6,  5,  7,  7,  4,  6,  5,  6,  3,  4,  6,\n",
       "        4,  5,  8,  8,  7,  7,  5,  4,  8,  5,  4,  8,  7,  8,  3,  2,  7,\n",
       "        5,  6,  8,  6,  6,  7,  6,  3,  8,  5,  6,  3,  8,  5,  7,  8,  5,\n",
       "        4,  8,  5,  5,  3,  5,  8,  4,  9,  6,  9,  6,  4,  6,  4,  6,  4,\n",
       "        6,  8,  9,  5,  5,  3,  7,  5,  5,  6,  3,  6,  5,  9,  5,  7,  5,\n",
       "        6,  7,  5,  8,  5,  7,  5,  5,  6,  7,  6,  8,  4,  4,  8,  5,  4,\n",
       "        7,  5,  6,  6,  8,  7,  6,  4,  7,  5,  6,  6,  7,  6,  6,  6,  7,\n",
       "        4,  7,  5,  5,  5,  5,  4,  5,  4,  6,  7,  5,  7,  7,  4,  3,  5,\n",
       "        5,  7,  4,  8,  5,  7,  3,  7,  4,  6,  4,  7,  7,  6,  6,  8,  6,\n",
       "        7,  6,  7,  3,  8,  7,  9,  5,  6,  8,  6,  5,  5,  4,  4,  4,  4,\n",
       "        7,  7,  6,  6,  5,  5,  4,  4,  7,  7,  5,  8,  7,  6,  6,  7,  8,\n",
       "        8,  4,  4,  8,  6,  6,  6,  3,  6,  4,  7,  4,  5,  6,  5,  5,  7,\n",
       "        3,  5,  5,  7,  5,  5,  8,  6,  6,  8,  6,  6,  7,  7,  6,  6,  4,\n",
       "        5,  7,  6,  3,  6,  9,  7,  7,  7,  6,  8,  9,  5,  6,  9,  6,  4,\n",
       "        5,  8,  6,  5,  5,  8,  3,  6,  7,  8,  6,  5,  5,  6,  9,  7,  5,\n",
       "        6,  7,  4,  6,  3,  5,  4,  8,  6,  6,  8,  8,  1,  6,  6,  6,  5,\n",
       "        2,  7,  9,  7,  6,  6,  5,  5,  4,  8,  6,  7,  8,  5,  6,  3,  4,\n",
       "        9,  2, 10, 10,  5,  7,  8,  6,  6,  4,  6,  6,  2,  5,  6,  2,  7,\n",
       "        8,  8,  4,  5,  4,  7,  4,  4,  8,  6,  5,  6,  7,  9,  6,  6,  7,\n",
       "        5,  8,  3,  6,  5,  4,  8,  5,  6,  6,  5,  8,  5,  3,  5,  7,  4,\n",
       "        7,  3,  4,  7,  5,  6,  4,  6,  6,  7,  7,  6,  5,  5,  6,  7,  6,\n",
       "        7,  5,  7,  6,  7,  8,  6,  6,  6,  7,  6,  5,  5,  8,  8,  6,  6,\n",
       "        6,  5,  7,  3,  4,  7,  6,  7,  6,  7,  7,  5,  6,  6,  7,  6,  7,\n",
       "        6,  6,  5,  5,  7,  8,  6,  3,  7,  8,  6,  6,  8,  5,  6,  6,  6,\n",
       "        4,  7,  5,  6,  4,  7,  5,  4,  4,  7,  7,  6,  2,  7,  3,  4,  6,\n",
       "        6,  5,  8,  6,  5,  5,  7,  8,  7,  7,  5,  5,  7,  5,  4,  6,  8,\n",
       "        8,  5,  7,  4,  2,  7,  7,  6,  5,  6,  4,  3,  5,  8,  6,  5,  4,\n",
       "        8,  4,  5,  7,  5,  6,  6,  8,  8,  6,  9,  4,  8,  7,  6,  6,  7,\n",
       "        8,  6,  8,  7,  6,  6,  9,  7,  8,  8,  8,  6,  7,  6,  6,  8,  4,\n",
       "        5,  7,  5,  8,  3,  3,  6,  6,  3,  7,  9,  4,  5,  6,  5,  8,  6,\n",
       "        4,  7,  7,  5,  4,  7,  7,  7,  4,  7,  6,  8,  7,  6,  9,  5,  4,\n",
       "        5,  5,  6,  6,  5,  7,  5,  7,  8,  7,  5,  9,  4,  7,  7,  7,  7,\n",
       "        4,  4,  8,  7,  5,  6,  6,  6,  4,  4,  5,  6,  5,  5,  4,  4,  4,\n",
       "        3,  7,  4, 10,  5,  5,  7,  7,  7,  5,  6,  3,  8,  6,  8,  7,  7,\n",
       "        7,  7,  6,  6,  5,  6,  6,  5,  5,  5,  5,  6,  8,  5,  7,  9,  5,\n",
       "        7,  7,  9,  5,  8,  1,  5,  5,  6,  6,  3,  6,  5,  3,  3,  8,  5,\n",
       "        6,  5,  8,  4,  6,  4,  6,  7,  5,  5,  5,  7,  5,  3,  5,  8,  5,\n",
       "        6,  4,  7,  6,  6,  6,  5,  9,  7,  6,  4,  5,  6,  5,  4,  7,  7,\n",
       "        6,  6,  7,  6, 10,  7,  7,  7,  6,  5,  5,  5,  5,  4,  5,  7,  7,\n",
       "        6,  5,  8,  8,  8,  3,  5,  7,  5,  3,  7,  7,  7,  7,  5,  6,  4,\n",
       "        7,  6,  6,  7,  7,  5,  6,  6,  6,  5,  4,  7,  6,  3,  8,  5,  5,\n",
       "        4,  8,  6,  6,  6,  5,  5,  6,  6,  3,  5,  4,  7,  4,  6,  7,  6,\n",
       "        6,  4,  8,  7,  8,  8,  4,  7,  8,  5,  5,  6,  7,  6,  7,  8,  3,\n",
       "        6,  8,  8,  6,  7,  4,  7,  6, 10,  7,  8,  4,  6,  6,  6,  5,  5,\n",
       "        8,  6,  5,  4,  8,  5,  7,  6,  9,  6,  5,  5,  8,  7,  5,  5,  4,\n",
       "        4,  9,  5,  5,  6,  6,  4,  5,  6,  7,  6,  3,  6,  6,  6,  6,  8,\n",
       "        5,  7,  6,  7,  8,  4,  7,  4,  5,  2,  5,  7,  4,  5,  8,  5,  6,\n",
       "        6,  8,  5,  6,  8,  8,  6,  7,  4,  7,  7,  7,  5,  6,  7,  9,  5,\n",
       "        5,  8,  6,  2,  7, 10,  5,  5,  7,  9,  7,  9,  6,  4,  4,  7,  7,\n",
       "        7,  4,  8,  9,  6,  4,  6,  7,  4,  7,  4,  6,  8,  4])"
      ]
     },
     "execution_count": 15,
     "metadata": {},
     "output_type": "execute_result"
    }
   ],
   "source": [
    "binomial_data"
   ]
  },
  {
   "cell_type": "code",
   "execution_count": 25,
   "id": "68a8b581-164b-4706-959d-ce6e75f9d233",
   "metadata": {},
   "outputs": [
    {
     "data": {
      "text/plain": [
       "(array([  0.,   2.,  11.,  48., 120., 201., 261., 197., 120.,  32.,   8.]),\n",
       " array([ 0.,  1.,  2.,  3.,  4.,  5.,  6.,  7.,  8.,  9., 10., 11.]),\n",
       " <BarContainer object of 11 artists>)"
      ]
     },
     "execution_count": 25,
     "metadata": {},
     "output_type": "execute_result"
    },
    {
     "data": {
      "image/png": "[encoded data removed]",
      "text/plain": [
       "<Figure size 640x480 with 1 Axes>"
      ]
     },
     "metadata": {},
     "output_type": "display_data"
    }
   ],
   "source": [
    "#plot\n",
    "\n",
    "plt.hist(binomial_data, bins = range(0,n+2),edgecolor = 'r',alpha = 0.6,color = \"orange\")\n",
    "plt.title(\"binomial_data distribution\")\n",
    "plt.xlabel(\"trails\")\n",
    "plt.ylabel(\""
   ]
  },
  {
   "cell_type": "code",
   "execution_count": null,
   "id": "475d8b5f-a36b-4d47-b3cb-6a08fa935004",
   "metadata": {},
   "outputs": [],
   "source": []
  }
 ],
 "metadata": {
  "kernelspec": {
   "display_name": "Python 3 (ipykernel)",
   "language": "python",
   "name": "python3"
  },
  "language_info": {
   "codemirror_mode": {
    "name": "ipython",
    "version": 3
   },
   "file_extension": ".py",
   "mimetype": "text/x-python",
   "name": "python",
   "nbconvert_exporter": "python",
   "pygments_lexer": "ipython3",
   "version": "3.12.4"
  }
 },
 "nbformat": 4,
 "nbformat_minor": 5
}
