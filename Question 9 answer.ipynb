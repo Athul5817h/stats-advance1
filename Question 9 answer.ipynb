{
 "cells": [
  {
   "cell_type": "code",
   "execution_count": 1,
   "id": "7e6a603d-7eef-4484-b3e9-9d3040c9c10e",
   "metadata": {},
   "outputs": [],
   "source": [
    "import math"
   ]
  },
  {
   "cell_type": "code",
   "execution_count": 3,
   "id": "3ced35e1-86f4-45ee-b11e-c4d159192772",
   "metadata": {},
   "outputs": [],
   "source": [
    "#step 1\n",
    "#frame hypothesis\n",
    "#h0 : pop_mean = 100\n",
    "#ha : pop_mean != 100"
   ]
  },
  {
   "cell_type": "code",
   "execution_count": 5,
   "id": "560b867b-77e5-4641-8104-02ed2bfbc7e4",
   "metadata": {},
   "outputs": [],
   "source": [
    "#step2\n",
    "#two tail test"
   ]
  },
  {
   "cell_type": "code",
   "execution_count": 7,
   "id": "f8ad8c68-f956-432b-8c01-1880957c5216",
   "metadata": {},
   "outputs": [],
   "source": [
    "#z score\n",
    "\n",
    "pop_mean = 100\n",
    "sample_mean = 105\n",
    "std_dev = 15\n",
    "n = 25\n",
    "signif_level = 0.05"
   ]
  },
  {
   "cell_type": "code",
   "execution_count": 9,
   "id": "5140f99c-b528-4eba-8cd0-f9ae34b57d01",
   "metadata": {},
   "outputs": [],
   "source": [
    "Stnd_err = std_dev / math.sqrt(n)"
   ]
  },
  {
   "cell_type": "code",
   "execution_count": 13,
   "id": "be360d61-1cab-4fb3-830e-fc0c2c6a11d0",
   "metadata": {},
   "outputs": [
    {
     "data": {
      "text/plain": [
       "3.0"
      ]
     },
     "execution_count": 13,
     "metadata": {},
     "output_type": "execute_result"
    }
   ],
   "source": [
    "Stnd_err"
   ]
  },
  {
   "cell_type": "code",
   "execution_count": 15,
   "id": "48af769f-165f-455b-bd0e-b6c7df27b62e",
   "metadata": {},
   "outputs": [],
   "source": [
    "Z_score = (sample_mean - pop_mean)/Stnd_err"
   ]
  },
  {
   "cell_type": "code",
   "execution_count": 17,
   "id": "072a01f4-d20d-4bf2-aa94-136f2f59e4a9",
   "metadata": {},
   "outputs": [
    {
     "data": {
      "text/plain": [
       "1.6666666666666667"
      ]
     },
     "execution_count": 17,
     "metadata": {},
     "output_type": "execute_result"
    }
   ],
   "source": [
    "Z_score"
   ]
  },
  {
   "cell_type": "code",
   "execution_count": 19,
   "id": "0c56e172-fbe8-46ef-9aba-982a81f970dd",
   "metadata": {},
   "outputs": [],
   "source": [
    "#from Z table probability of value ( p-value)"
   ]
  },
  {
   "cell_type": "code",
   "execution_count": 21,
   "id": "35bbc43d-cbf4-4a07-a7a7-5c379ab515f2",
   "metadata": {},
   "outputs": [],
   "source": [
    "p_value = 1 - 0.9515"
   ]
  },
  {
   "cell_type": "code",
   "execution_count": 23,
   "id": "c2791279-5e13-4665-b506-f66b0be78b54",
   "metadata": {},
   "outputs": [
    {
     "data": {
      "text/plain": [
       "0.04849999999999999"
      ]
     },
     "execution_count": 23,
     "metadata": {},
     "output_type": "execute_result"
    }
   ],
   "source": [
    "p_value"
   ]
  },
  {
   "cell_type": "code",
   "execution_count": 25,
   "id": "f9b9d96a-7f8b-4e20-9535-41989e188360",
   "metadata": {},
   "outputs": [],
   "source": [
    "#due to two tail\n",
    "\n",
    "P_value = p_value + p_value"
   ]
  },
  {
   "cell_type": "code",
   "execution_count": 27,
   "id": "f4dd01d2-47f2-45a7-8b83-f93d9c889762",
   "metadata": {},
   "outputs": [
    {
     "data": {
      "text/plain": [
       "0.09699999999999998"
      ]
     },
     "execution_count": 27,
     "metadata": {},
     "output_type": "execute_result"
    }
   ],
   "source": [
    "P_value"
   ]
  },
  {
   "cell_type": "code",
   "execution_count": 29,
   "id": "1811a5b2-a554-482d-807f-8022c66bbecd",
   "metadata": {},
   "outputs": [
    {
     "name": "stdout",
     "output_type": "stream",
     "text": [
      "failed to reject null value\n"
     ]
    }
   ],
   "source": [
    "if P_value < signif_level:\n",
    "    print(\"reject null value\")\n",
    "else:\n",
    "    print(\"failed to reject null value\")"
   ]
  },
  {
   "cell_type": "code",
   "execution_count": null,
   "id": "c67945c7-d371-4df9-b25f-fe881c70cfa6",
   "metadata": {},
   "outputs": [],
   "source": []
  }
 ],
 "metadata": {
  "kernelspec": {
   "display_name": "Python 3 (ipykernel)",
   "language": "python",
   "name": "python3"
  },
  "language_info": {
   "codemirror_mode": {
    "name": "ipython",
    "version": 3
   },
   "file_extension": ".py",
   "mimetype": "text/x-python",
   "name": "python",
   "nbconvert_exporter": "python",
   "pygments_lexer": "ipython3",
   "version": "3.12.4"
  }
 },
 "nbformat": 4,
 "nbformat_minor": 5
}
